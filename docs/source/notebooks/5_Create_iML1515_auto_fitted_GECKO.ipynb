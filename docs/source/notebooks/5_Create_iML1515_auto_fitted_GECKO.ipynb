{
 "cells": [
  {
   "cell_type": "markdown",
   "metadata": {},
   "source": [
    "# 5. Tutorial: Create iML1515 GECKO with auto-fitted turnover numbers\n",
    "\n",
    "We developed a series of GECKO models of iML1515, with model parameters being progressively refined from one model to the next. Our initial model was based on default values, requiring minimal bespoke configuration. For our second model, we adjusted transporter-related parameters, taking into account organism- and model-specific information. For our third model, we replaced default turnover numbers with AI-predicted turnover numbers for metabolic reactions. In the fourth model, flux distributions were corrected by adjusting predicted turnover numbers of a few reactions, considering organism-specific information and experimental data of quantitative proteomics. \n",
    "\n",
    "In this tutorial, we extend the concept introduced in the previous tutorial to automatically fit turnover numbers to proteomics data. This fitting process will not be perfect, but the model will improve significantly with respect to predicting protein levels. One limitation of the automatic fitting process is that it can only be applied to reactions and pathways carrying flux as per our predictions. This is also the reason why we corrected the flux balance between glycolysis and PPP. \n",
    "\n",
    "Quantitative proteomics is a valuable source of data for determining more realistic apparent turnover numbers, as required for enzyme constraint models, by adjusting default and predicted turnover numbers. This is due to the almost complete coverage and use of standardized experimental methods in quantitative proteomics. To circumvent the pitfalls of overfitting, we intend to impose constraints on the extent of adjustment.\n",
    "\n",
    "It should be noted, that alternative fitting procedures exist in GECKO 2.0 (Domenzain et al., 2022) for single conditions and using the PRESTO formalism (Wendering et al., 2023) across multiple growth conditions.\n",
    "\n",
    "Peter Schubert, Heinrich-Heine University Duesseldorf, Institute for Computational Cell Biology (Prof. Dr. M. Lercher), January, 2025"
   ]
  },
  {
   "cell_type": "markdown",
   "metadata": {},
   "source": [
    "## Step 1: Initial setup"
   ]
  },
  {
   "cell_type": "code",
   "execution_count": 1,
   "metadata": {
    "scrolled": true
   },
   "outputs": [
    {
     "name": "stdout",
     "output_type": "stream",
     "text": [
      "6 minimal media conditions created for simulation\n",
      "2347 records of proteomics loaded from data/Ecoli_Schmidt_proteomics.xlsx\n",
      "2232 records with confidence level above 43.0\n"
     ]
    }
   ],
   "source": [
    "# Required imports and model names\n",
    "import os\n",
    "import re\n",
    "import pandas as pd\n",
    "import cobra\n",
    "\n",
    "from f2xba import XbaModel, EcModel\n",
    "from f2xba import EcmOptimization, EcmResults\n",
    "from f2xba import GeckoFitKcats\n",
    "from f2xba.utils.mapping_utils import load_parameter_file, write_parameter_file\n",
    "\n",
    "fba_model = 'iML1515'\n",
    "baseline_model = 'iML1515_manual_adjust_GECKO'\n",
    "target_model = 'iML1515_predicted_fit_GECKO'\n",
    "reference_cond = 'Glucose'\n",
    "        \n",
    "# Create media conditions\n",
    "media_grs = {'Acetate': ['ac', 0.29], 'Glycerol': ['glyc', 0.47], 'Fructose': ['fru', 0.54], \n",
    "             'L-Malate': ['mal__L', 0.55], 'Glucose': ['glc__D', 0.66], 'Glucose 6-Phosphate': ['g6p', 0.78]}\n",
    "base_medium = ['ca2', 'cbl1', 'cl', 'co2', 'cobalt2', 'cu2', 'fe2', 'fe3', 'h2o', 'h', 'k', 'mg2', \n",
    "               'mn2', 'mobd', 'na1', 'nh4', 'ni2', 'o2', 'pi', 'sel', 'slnt', 'so4', 'tungs', 'zn2']\n",
    "conditions = {}\n",
    "exp_grs = {}\n",
    "for cond, (carbon_sid, exp_gr )in media_grs.items():\n",
    "    conditions[cond] = {f'EX_{sidx}_e': 1000.0 for sidx in base_medium}\n",
    "    conditions[cond][f'EX_{carbon_sid}_e'] = 1000.0\n",
    "    exp_grs[cond] = exp_gr\n",
    "print(f'{len(conditions)} minimal media conditions created for simulation')\n",
    "\n",
    "# Load proteomics\n",
    "fname = os.path.join('data', 'Ecoli_Schmidt_proteomics.xlsx')\n",
    "with pd.ExcelFile(fname) as xlsx:\n",
    "    df_mpmf = pd.read_excel(xlsx, sheet_name='proteomics', index_col=0)\n",
    "    print(f'{len(df_mpmf)} records of proteomics loaded from {fname}')\n",
    "min_confidence_level = 43.0\n",
    "df_mpmf = df_mpmf[df_mpmf['confidence'] > min_confidence_level]\n",
    "print(f'{len(df_mpmf)} records with confidence level above {min_confidence_level}')"
   ]
  },
  {
   "cell_type": "markdown",
   "metadata": {},
   "source": [
    "## Step 2: Fit turnover values to proteomics (cobrapy)\n",
    "\n",
    "The workflow to automatically fit turnover numbers to proteomics begins with determining the flux distribution predicted for the baseline GECKO model on the reference condition, which is glucose minimal medium.\n",
    "\n",
    "Subsequently, the measured protein concentrations are extracted from the proteomics data. It is imperative to note that the four major outer membrane pores ('b0929', 'b2215', 'b1377', 'b0241') will be excluded from the automated fitting process to avoid interference with the turnover number adjustments performed in the 2nd tutorial. Additionally, the protein measurement for b2400\\gltX, which catalyzes glutamyl-tRNA charging, is excluded. In FBA and GECKO, this is used for the synthesis of biomass components protoheme (M_pheme_c) and siroheme (M_sheme_c), but not for tRNA charging.\n",
    "\n",
    "Finally, we perform the automated fit process using an instance of `GeckoFitKcats` to generate updated turnover numbers for the target model. The fitting process adjusts the coupling factors through updated turnover numbers to align predicted flux distribution to measured protein levels. In a simple example, if predicted flux through a given reaction predicts a protein concentration that is double of the measured level, the fitting process would double the respective turnover number. The fitting process adjusts turnover numbers for reactions that carry flux, and it can switch flux between iso-reactions and consider promiscuous enzymes that catalyze more than one reaction. To avoid overfitting, a maximum scaling factor can be provided. Finally, all turnover numbers will be rescaled for a given target enzyme saturation."
   ]
  },
  {
   "cell_type": "markdown",
   "metadata": {},
   "source": [
    "### 2.1 flux distribution in baseline model\n",
    "\n",
    "The predicted flux distribution is determined, and it is used as a reference for the fitting task."
   ]
  },
  {
   "cell_type": "code",
   "execution_count": 2,
   "metadata": {},
   "outputs": [
    {
     "name": "stdout",
     "output_type": "stream",
     "text": [
      "Set parameter Username\n",
      "Academic license - for non-commercial use only - expires 2025-04-22\n",
      "SBML model loaded by sbmlxdf: SBML_models/iML1515_manual_adjust_GECKO.xml (Thu Mar 20 20:55:49 2025)\n",
      "total modeled protein: 306.59 mg/gDW, enzyme saturation level: 0.53\n",
      "Glucose: growth rate 0.654 h-1 (optimal)\n"
     ]
    }
   ],
   "source": [
    "# Load GECKO model and optimize for reference condition\n",
    "fname = os.path.join('SBML_models', f'{baseline_model}.xml')\n",
    "ecm = cobra.io.read_sbml_model(fname)\n",
    "total_protein = ecm.reactions.get_by_id('V_PC_total').upper_bound\n",
    "\n",
    "eo = EcmOptimization(fname, ecm)\n",
    "sigma = eo.avg_enz_saturation\n",
    "print(f'total modeled protein: {total_protein:.2f} mg/gDW, enzyme saturation level: {sigma}')\n",
    "\n",
    "# Calculate GECKO solution for given condition\n",
    "ecm.medium = conditions[reference_cond]\n",
    "solution = ecm.optimize()\n",
    "gr = solution.objective_value\n",
    "print(f'{reference_cond}: growth rate {gr:.3f} h-1 ({solution.status})')"
   ]
  },
  {
   "cell_type": "markdown",
   "metadata": {},
   "source": [
    "### 2.2 measured protein concentrations\n",
    "\n",
    "The protein concentrations, which have been measured, must be collected so that the turnover numbers can be adjusted. It is important to note that certain proteins have been selected and are therefore excluded from this process."
   ]
  },
  {
   "cell_type": "code",
   "execution_count": 3,
   "metadata": {},
   "outputs": [
    {
     "name": "stdout",
     "output_type": "stream",
     "text": [
      " 996 proteins measured with total of 497.8 mg/gP\n",
      "   3 proteins excluded with total of  16.6 mg/gP\n"
     ]
    }
   ],
   "source": [
    "# Select proteins for the automatic fit\n",
    "excluded_loci = {'b0929', 'b2215', 'b1377', 'b0241', 'b2400'}\n",
    "measured_mpmfs = {} \n",
    "excluded_mpmfs = {} \n",
    "for locus, mpmf in df_mpmf[reference_cond].items():\n",
    "    if locus in eo.locus2uid:\n",
    "        if locus not in excluded_loci:\n",
    "            measured_mpmfs[locus] = mpmf        \n",
    "        else:\n",
    "            excluded_mpmfs[locus] = mpmf\n",
    "\n",
    "print(f'{len(measured_mpmfs):4d} proteins measured with total of {sum(measured_mpmfs.values()):5.1f} mg/gP')\n",
    "print(f'{len(excluded_mpmfs):4d} proteins excluded with total of {sum(excluded_mpmfs.values()):5.1f} mg/gP')"
   ]
  },
  {
   "cell_type": "markdown",
   "metadata": {},
   "source": [
    "### 2.3 fit turnover numbers to proteomics\n",
    "\n",
    "The automated fitting task is performed by the class `GeckoGitKcats`. During instantiation, a reference to the instance of `EcmOptimization` and the turnover numbers in the baseline model are provided. Subsequently, `gfk.process_data()` is called with the flux distribution for the reference condition and the expected protein concentrations. Finally, the function `gfk.update_kcats()` is invoked to adjust the turnover numbers, taking into account a constraint on the maximum scaling (`max_scale_factor`)  and the anticipated target enzyme saturation (`target_sat`). A maximum scaling factor of 100.0 would allow turnover numbers to be adjusted to \\[1/100.0 … 100.0\\] * original value. Reactions for which the adjustment of turnover numbers was not possible due to the maximum scaling constraint are returned in the dictionary `exceeding_max_scale`. This information can be utilized to enhance the model further by adjusting pertinent model parameters.\n",
    "\n",
    "In accordance with the GECKO optimization problem, a distinction is made between active reactions, those carrying flux, and inactive reactions. Consequently, the total modeled proteome is partitioned between the active proteome, the set of proteins required to catalyze active reactions, and the inactive proteome. The inactive proteome has a total predicted concentration of zero, while the total available protein is divided between the proteins in the active proteome. Subsequently, the value of the total available protein can be adjusted to be equal to the sum of the measured proteins of the active proteome (`tot_fitted_mpmf`)."
   ]
  },
  {
   "cell_type": "code",
   "execution_count": 4,
   "metadata": {},
   "outputs": [
    {
     "name": "stdout",
     "output_type": "stream",
     "text": [
      "5357 enzyme catalyzed iso-reactions (2221 reactions, 1494 proteins)\n",
      " 397 active catalyzed reactions with total protein of 537.9 mg/gP (based on GECKO simulation)\n",
      " 417 proteins potentially involved in active reactions\n",
      " 353 active catalyzed reactions using total protein of 357.2 mg/gP (based on proteomics)\n",
      "  44 active catalyzed reactions have no measured proteins provided\n",
      "5357 original kcat records loaded from data/iML1515_manual_adjust_GECKO_kcats.xlsx\n",
      " 583 kcat records fitted. Scale factor range [0.0090301, 108.9]\n",
      "  24 (net) reactions would exceed the maximum scaling factor of 100.0 and will not be scaled\n",
      "fitted kcats exported to data/iML1515_predicted_fit_GECKO_kcats.xlsx\n"
     ]
    }
   ],
   "source": [
    "# Automatically fit kcat values to proteomics\n",
    "target_enz_sat = 0.5\n",
    "orig_kcats_fname = os.path.join('data', f'{baseline_model}_kcats.xlsx')\n",
    "fitted_kcats_fname = os.path.join('data', f'{target_model}_kcats.xlsx')\n",
    "\n",
    "gfk = GeckoFitKcats(eo, orig_kcats_fname)\n",
    "\n",
    "tot_fitted_mpmf = gfk.process_data(solution.fluxes, measured_mpmfs)\n",
    "exceeding_max_scale = gfk.update_kcats(fitted_kcats_fname, target_sat=target_enz_sat, max_scale_factor=100.0)"
   ]
  },
  {
   "cell_type": "markdown",
   "metadata": {},
   "source": [
    "## Step 3: Create GECKO model with fitted parameters\n",
    "\n",
    "The XBA and ECM configuration files are updated. Adjustments are made to the total available protein in the ECM parameter file. Thereafter, the target GECKO model is created."
   ]
  },
  {
   "cell_type": "code",
   "execution_count": 5,
   "metadata": {},
   "outputs": [
    {
     "name": "stdout",
     "output_type": "stream",
     "text": [
      "3 table(s) with parameters loaded from data/iML1515_manual_adjust_GECKO_xba_parameters.xlsx (Thu Mar 20 20:55:27 2025)\n",
      "3 table(s) with parameters written to  data/iML1515_predicted_fit_GECKO_xba_parameters.xlsx\n",
      "1 table(s) with parameters loaded from data/iML1515_manual_adjust_GECKO_ecm_parameters.xlsx (Thu Mar 20 20:55:27 2025)\n",
      "1 table(s) with parameters written to  data/iML1515_predicted_fit_GECKO_ecm_parameters.xlsx\n"
     ]
    }
   ],
   "source": [
    "# Create updated XBA parameter file\n",
    "xba_params = load_parameter_file(os.path.join('data', f'{baseline_model}_xba_parameters.xlsx'))\n",
    "xba_params['general'].at['kcats_fname', 'value'] = os.path.join('data', f'{target_model}_kcats.xlsx')\n",
    "write_parameter_file(os.path.join('data', f'{target_model}_xba_parameters.xlsx'), xba_params)\n",
    "\n",
    "# Create updated ECM parameter file\n",
    "ecm_params = load_parameter_file(os.path.join('data', f'{baseline_model}_ecm_parameters.xlsx'),['general'])\n",
    "fitted_pmf = (tot_fitted_mpmf + sum(excluded_mpmfs.values()))/1000.0\n",
    "ecm_params['general'].at['pm2totpm_val_or_paxdb', 'value'] = fitted_pmf\n",
    "ecm_params['general'].at['avg_enz_sat', 'value'] = target_enz_sat\n",
    "write_parameter_file(os.path.join('data', f'{target_model}_ecm_parameters.xlsx'), ecm_params)"
   ]
  },
  {
   "cell_type": "code",
   "execution_count": 6,
   "metadata": {},
   "outputs": [
    {
     "name": "stdout",
     "output_type": "stream",
     "text": [
      "loading: SBML_models/iML1515.xml (last modified: Thu Dec  5 10:03:46 2024)\n",
      "3 table(s) with parameters loaded from data/iML1515_predicted_fit_GECKO_xba_parameters.xlsx (Thu Mar 20 20:58:55 2025)\n",
      "   2 attributes on reaction instances updated\n",
      "  22 gene product(s) removed from reactions (1494 gene products remaining)\n",
      "extracting UniProt protein data from data/uniprot_organism_83333.tsv\n",
      "1494 proteins created\n",
      "1203 enzymes added with default stoichiometry\n",
      "1 table(s) with parameters loaded from data/iML1515_enzyme_composition_updated.xlsx (Thu Mar 20 20:48:35 2025)\n",
      "1203 enzyme compositions updated from data/iML1515_enzyme_composition_updated.xlsx\n",
      "2221 reactions catalyzed by 1203 enzymes\n",
      "default kcat values configured for ['metabolic', 'transporter'] reactions\n",
      "1 table(s) with parameters loaded from data/iML1515_predicted_fit_GECKO_kcats.xlsx (Thu Mar 20 20:58:07 2025)\n",
      "5357 kcat values updated from data/iML1515_predicted_fit_GECKO_kcats.xlsx\n",
      "   0 enzymes removed due to missing kcat values\n",
      "1877 constraints (+0); 2712 variables (+0); 1494 genes (-22); 5 parameters (+0)\n",
      ">>> BASELINE XBA model configured!\n",
      "\n",
      "1 table(s) with parameters loaded from data/iML1515_predicted_fit_GECKO_ecm_parameters.xlsx (Thu Mar 20 20:58:55 2025)\n",
      "modeled protein fraction of total protein mass 0.3739 g/g\n",
      "1494 protein constraints to add\n",
      "1494 constraint ids added to the model (3371 total constraints)\n",
      "protein constraint: 213.11 mg/gDW - modeled protein\n",
      "   1 constraint ids added to the model (3372 total constraints)\n",
      "1495 protein variables to add\n",
      "1495 variable ids added to the model (7343 total variables)\n",
      "3372 constraints (+1495); 7343 variables (+4631); 1494 genes (-22); 11 parameters (+6)\n",
      "model exported to SBML: SBML_models/iML1515_predicted_fit_GECKO.xml\n"
     ]
    },
    {
     "data": {
      "text/plain": [
       "True"
      ]
     },
     "execution_count": 6,
     "metadata": {},
     "output_type": "execute_result"
    }
   ],
   "source": [
    "# Create new GECKO model\n",
    "xba_model = XbaModel(os.path.join('SBML_models', f'{fba_model}.xml'))\n",
    "xba_model.configure(os.path.join('data', f'{target_model}_xba_parameters.xlsx'))\n",
    "ec_model = EcModel(xba_model)\n",
    "ec_model.configure(os.path.join('data', f'{target_model}_ecm_parameters.xlsx'))\n",
    "ec_model.export(os.path.join('SBML_models', f'{target_model}.xml'))"
   ]
  },
  {
   "cell_type": "markdown",
   "metadata": {},
   "source": [
    "---\n",
    "---\n",
    "## Step 4: Load and optimize GECKO model (cobrapy)"
   ]
  },
  {
   "cell_type": "code",
   "execution_count": 7,
   "metadata": {},
   "outputs": [
    {
     "name": "stdout",
     "output_type": "stream",
     "text": [
      "SBML model loaded by sbmlxdf: SBML_models/iML1515_predicted_fit_GECKO.xml (Thu Mar 20 20:59:19 2025)\n",
      "total modeled protein: 213.11 mg/gDW, average saturation level: 0.5\n",
      "1494 genes: (492) transporter, (1002) metabolic\n"
     ]
    }
   ],
   "source": [
    "# Load model using COBRApy\n",
    "fname = os.path.join('SBML_models', f'{target_model}.xml')\n",
    "ecm = cobra.io.read_sbml_model(fname)\n",
    "total_protein = ecm.reactions.get_by_id('V_PC_total').upper_bound\n",
    "\n",
    "eo = EcmOptimization(fname, ecm)\n",
    "sigma = eo.avg_enz_saturation\n",
    "all_genes = set(eo.m_dict['fbcGeneProducts']['label'].values)\n",
    "tx_genes, metab_genes = eo.get_tx_metab_genes()\n",
    "print(f'total modeled protein: {total_protein:.2f} mg/gDW, average saturation level: {sigma}')\n",
    "print(f'{len(all_genes)} genes: ({len(tx_genes)}) transporter, ({len(metab_genes)}) metabolic')"
   ]
  },
  {
   "cell_type": "code",
   "execution_count": 8,
   "metadata": {},
   "outputs": [
    {
     "name": "stdout",
     "output_type": "stream",
     "text": [
      "Acetate                  : pred gr: 0.455 h-1 vs. exp 0.290, diff:  0.165\n",
      "Glycerol                 : pred gr: 0.649 h-1 vs. exp 0.470, diff:  0.179\n",
      "Fructose                 : pred gr: 0.582 h-1 vs. exp 0.540, diff:  0.042\n",
      "L-Malate                 : pred gr: 0.613 h-1 vs. exp 0.550, diff:  0.063\n",
      "Glucose                  : pred gr: 0.653 h-1 vs. exp 0.660, diff: -0.007\n",
      "Glucose 6-Phosphate      : pred gr: 0.663 h-1 vs. exp 0.780, diff: -0.117\n"
     ]
    },
    {
     "data": {
      "image/png": "[encoded data removed]",
      "text/plain": [
       "<Figure size 400x247.2 with 1 Axes>"
      ]
     },
     "metadata": {},
     "output_type": "display_data"
    },
    {
     "name": "stdout",
     "output_type": "stream",
     "text": [
      "Protein mass fractions:\n",
      "Acetate                  : r² = 0.4769, p = 1.82e-142 ( 999 proteins lin scale)\n",
      "Glycerol                 : r² = 0.4743, p = 2.28e-141 ( 999 proteins lin scale)\n",
      "Fructose                 : r² = 0.5660, p = 6.25e-183 ( 999 proteins lin scale)\n",
      "Glucose                  : r² = 0.8105, p = 0.00e+00 ( 999 proteins lin scale)\n",
      "Acetate                  : r² = 0.4580, p = 5.32e-43 ( 311 proteins log scale)\n",
      "Glycerol                 : r² = 0.4844, p = 4.47e-46 ( 309 proteins log scale)\n",
      "Fructose                 : r² = 0.4953, p = 4.70e-47 ( 306 proteins log scale)\n",
      "Glucose                  : r² = 0.5491, p = 1.48e-55 ( 312 proteins log scale)\n",
      "\n",
      "condition: Glucose\n",
      "1494 proteins in model with total predicted mass fraction of 373.9 mg/gP\n",
      "      999 have been measured with mpmf of  514.4 mg/gP vs. 354.2 mg/gP predicted\n",
      "           762 metabolic proteins measured 414.0 mg/gP vs. 298.0 mg/gP predicted\n",
      "           237 transport proteins measured 100.4 mg/gP vs.  56.2 mg/gP predicted\n",
      "      495 proteins not measured vs.  19.7 mg/gP predicted\n",
      "           495 actual  proteins      19.7 mg/gP predicted\n",
      "total           : r² = 0.8105, p = 0.00e+00 ( 999 proteins lin scale)\n",
      " metabolic      : r² = 0.8404, p = 4.12e-305 ( 762 proteins lin scale)\n",
      " transport      : r² = 0.6031, p = 4.72e-49 ( 237 proteins lin scale)\n",
      "total           : r² = 0.5491, p = 1.48e-55 ( 312 proteins log scale)\n",
      " metabolic      : r² = 0.5631, p = 1.76e-48 ( 261 proteins log scale)\n",
      " transport      : r² = 0.6190, p = 7.72e-12 (  51 proteins log scale)\n"
     ]
    },
    {
     "data": {
      "image/png": "[encoded data removed]",
      "text/plain": [
       "<Figure size 800x247.2 with 2 Axes>"
      ]
     },
     "metadata": {},
     "output_type": "display_data"
    },
    {
     "name": "stdout",
     "output_type": "stream",
     "text": [
      "1 file(s) exported for \"Load reaction data\" into Escher maps\n"
     ]
    }
   ],
   "source": [
    "# Optimize model using cobrapy and analyze results\n",
    "pred_results = {}\n",
    "for cond, medium in conditions.items():\n",
    "    with ecm as model:\n",
    "                \n",
    "        model.medium = medium \n",
    "        solution = model.optimize()\n",
    "        if solution.status == 'optimal':\n",
    "            gr = solution.objective_value\n",
    "            pred_results[cond] = solution\n",
    "            print(f'{cond:25s}: pred gr: {gr:.3f} h-1 vs. exp {exp_grs[cond]:.3f}, '\n",
    "                  f'diff: {gr - exp_grs[cond]:6.3f}')\n",
    "        else:    \n",
    "            print(f'{cond} ended with status {solution.status}')\n",
    "            \n",
    "er = EcmResults(eo, pred_results, df_mpmf)\n",
    "df_fluxes = er.collect_fluxes()\n",
    "df_net_fluxes = er.collect_fluxes(net=True)\n",
    "df_proteins = er.collect_protein_results()\n",
    "er.plot_grs(exp_grs, highlight=reference_cond)\n",
    "print(f'Protein mass fractions:')\n",
    "er.report_proteomics_correlation(scale='lin')\n",
    "er.report_proteomics_correlation(scale='log')\n",
    "print()\n",
    "er.report_protein_levels(reference_cond)\n",
    "er.plot_proteins(reference_cond)  \n",
    "er.save_to_escher(df_net_fluxes[reference_cond], os.path.join('escher', target_model))"
   ]
  },
  {
   "cell_type": "code",
   "execution_count": 9,
   "metadata": {},
   "outputs": [
    {
     "name": "stdout",
     "output_type": "stream",
     "text": [
      "G6PDH2r        :    0.387 mmol/gDWh [b1852]\n",
      "EDA            :    0.000 mmol/gDWh [b1850]\n",
      "PGI            :    7.370 mmol/gDWh [b4025]\n",
      "PFK            :    7.060 mmol/gDWh [b1723 or b3916]\n",
      "FBA            :    7.060 mmol/gDWh [b2097 or b2925]\n",
      "TPI            :    6.968 mmol/gDWh [b3919]\n",
      "GAPD           :   13.814 mmol/gDWh [b1779]\n",
      "PGK            :  -13.814 mmol/gDWh [b2926]\n",
      "PGM            :  -12.621 mmol/gDWh [b0755 or b3612]\n",
      "ENO            :   12.621 mmol/gDWh [b2779]\n",
      "PYK            :    2.391 mmol/gDWh [b1676 or b1854]\n"
     ]
    }
   ],
   "source": [
    "# analyze reactions selected fluxes\n",
    "rids = ['G6PDH2r', 'EDA', 'PGI', 'PFK', 'FBA', 'TPI', 'GAPD', 'PGK', 'PGM', 'ENO', 'PYK']\n",
    "for rid in rids:\n",
    "    print(f'{rid:15s}: {df_net_fluxes.at[rid, reference_cond]:8.3f} mmol/gDWh [{df_net_fluxes.at[rid, \"gpr\"]}]')"
   ]
  },
  {
   "cell_type": "markdown",
   "metadata": {},
   "source": [
    "## Step 5 – GECKO model limitations\n",
    "\n",
    "The optimization results of the final GECKO model have been obtained, thus allowing for the discussion of some of the limitations of GECKO modeling. The cases in which GECKO does not predict protein usage for proteins that have been measured at high concentrations will be discussed, as well as the suggestion that proteomics measurements have a slight bias towards cytosolic proteins and that small integral proteins are not measured correctly, which impacts correlation of protein concentrations. While the AI-predicted turnover numbers should approximate the in vitro values, we will examine situations where there are substantial discrepancies. Additionally, we will analyze the impact of automated fitting to the AI-predictions.\n"
   ]
  },
  {
   "cell_type": "markdown",
   "metadata": {},
   "source": [
    "### 5.1 inability to predict protein usage\n",
    "\n",
    "The GECKO model's inability to predict proteins that have been measured at high concentrations prompts the following inquiry:\n",
    "\n",
    "b0197/metQ and b3460/livJ are proteins associated with transporters, which are measured at relatively high concentrations. These proteins are utilized in methionine and branched amino acid uptake systems (ABC transporters) and function as periplasmic binding proteins. Given the nutrient conditions lacking amino acids, these transporters do not carry flux, and the related proteins are part of the inactive proteome. However, the cells utilized in the proteomics experiment expressed these proteins at high quantities, suggesting either constitutive expression due to cells evolving under rich conditions or in anticipation of such conditions.\n",
    "\n",
    "The b4015/aceA and b0605/ahpC genes encode metabolic proteins, which are measured at high concentrations; however, these proteins are not utilized by the model. b4015/aceA catalyzes the isocitrate lyase reaction (ICL) in the glyoxylate cycle. In the previous tutorial, we manually adjusted turnover values in the TCA cycle to generate flux through ICL. During automated fitting, this flux was switched off again, indicating the need for another manual adjustment. b0605/ahpC is a component of alkyl hydroperoxide reductase, which protects against oxidative stress. In the GECKO model, the protein is required to catalyze the NADH peroxidase reaction, which is inactive in the model."
   ]
  },
  {
   "cell_type": "code",
   "execution_count": 10,
   "metadata": {},
   "outputs": [
    {
     "name": "stdout",
     "output_type": "stream",
     "text": [
      "b3460 pred   0.0000 vs.   6.1215 (rank 24); livJ: Leu/Ile/Val-binding protein\n",
      "b0197 pred   0.0000 vs.   5.9980 (rank 38); metQ: D-methionine-binding lipoprotein metQ\n"
     ]
    }
   ],
   "source": [
    "# transport related proteins measured but not predicted\n",
    "for gene, pred in df_proteins[reference_cond].to_dict().items():\n",
    "    if gene in df_mpmf.index and gene in tx_genes:\n",
    "        exp = df_mpmf.at[gene, reference_cond]\n",
    "        if exp > 5 and pred == 0.0:\n",
    "            description = df_proteins.at[gene, 'description']\n",
    "            gname = df_proteins.at[gene, 'gene_name']\n",
    "            rank = df_mpmf.at[gene, 'rank']\n",
    "            print(f'{gene} pred {pred:8.4f} vs. {exp:8.4f} (rank {rank:2d}); {gname}: {description}')"
   ]
  },
  {
   "cell_type": "code",
   "execution_count": 11,
   "metadata": {},
   "outputs": [
    {
     "name": "stdout",
     "output_type": "stream",
     "text": [
      "b4015 pred   0.0000 vs.   9.1324 (rank  2); aceA: Isocitrate lyase\n",
      "b0605 pred   0.0000 vs.   8.2787 (rank 15); ahpC: Alkyl hydroperoxide reductase subunit C\n"
     ]
    }
   ],
   "source": [
    "# metabolic proteins measured but not predicted\n",
    "for gene, pred in df_proteins[reference_cond].to_dict().items():\n",
    "    if gene in df_mpmf.index and gene in metab_genes:\n",
    "        exp = df_mpmf.at[gene, reference_cond]\n",
    "        if (exp < 1 and pred > 5) or (exp > 5 and pred < 1):\n",
    "            description = df_proteins.at[gene, 'description']\n",
    "            gname = df_proteins.at[gene, 'gene_name']\n",
    "            rank = df_mpmf.at[gene, 'rank']\n",
    "            print(f'{gene} pred {pred:8.4f} vs. {exp:8.4f} (rank {rank:2d}); {gname}: {description}')"
   ]
  },
  {
   "cell_type": "markdown",
   "metadata": {},
   "source": [
    "### 5.2 biased proteomics\n",
    "\n",
    "A subsequent focus will be placed on protein concentrations related to transporters that have higher predicted than measured levels (red dots above the diagonal in the log10 correlation plot). Four proteins have predictions that are 20 times higher than measurements, and it is expected that automatic fitting would balance this out. The four proteins of interest, b3737/atpE, b2278/nuoL, b2276/nuoN, and b0430/cyoC, are components of larger enzymatic complexes that exhibit a fixed protein composition in the GECKO model. Consequently, they cannot be adjusted independently from the other proteins within the complex. It is hypothesized that the proteins may not have been accurately measured in the proteomics analysis due to their shared characteristic of being integral membrane proteins. \n",
    "\n",
    "The cytochrome bo3 ubiquinol:oxygen oxidoreductase complex, composed of four proteins expressed from the operon cyoABCD, serves as an example. The GECKO model predicts a protein requirement of 11.1 nmol/gP for the transporter and each of the four transporter components. However, the proteomics experiment yielded protein copy numbers of 0.1, 0.9, 6.5, and 17.9 nmol/gP. The low quantities of b0430/cycC and b0429/cyoD, which are small membrane proteins, may have led to their inaccurate quantification during the proteomics measurement."
   ]
  },
  {
   "cell_type": "code",
   "execution_count": 12,
   "metadata": {},
   "outputs": [
    {
     "name": "stdout",
     "output_type": "stream",
     "text": [
      "b3737 pred   2.7375 vs.   0.0161; atpE: ATP synthase subunit c, 170.29\n",
      "b2278 pred   0.3840 vs.   0.0008; nuoL: NADH-quinone oxidoreductase subunit L, 454.78\n",
      "b2276 pred   0.3008 vs.   0.0071; nuoN: NADH-quinone oxidoreductase subunit N, 42.28\n",
      "b0430 pred   0.1754 vs.   0.0028; cyoC: Cytochrome o ubiquinol oxidase subunit 3, 63.38\n"
     ]
    }
   ],
   "source": [
    "# transport proteins with overpredicted concentration\n",
    "for gene, pred in df_proteins[reference_cond].to_dict().items():\n",
    "    if gene in df_mpmf.index and (gene in tx_genes):\n",
    "        exp = df_mpmf.at[gene, reference_cond]\n",
    "        if exp > 0 and pred/exp > 20:\n",
    "            description = df_proteins.at[gene, 'description'][:50]\n",
    "            gname = df_proteins.at[gene, 'gene_name']\n",
    "            print(f'{gene} pred {pred:8.4f} vs. {exp:8.4f}; {gname}: {description}, {pred/exp:.2f}')"
   ]
  },
  {
   "cell_type": "code",
   "execution_count": 13,
   "metadata": {},
   "outputs": [
    {
     "name": "stdout",
     "output_type": "stream",
     "text": [
      "b0432/cyoA (34.9 kDa): pred 0.271 mg/gP (7.8 nmol/gP); exp 0.623 mg/gP ( 17.9 nmol/gP)\n",
      "b0431/cyoB (74.3 kDa): pred 0.576 mg/gP (7.8 nmol/gP); exp 0.485 mg/gP (  6.5 nmol/gP)\n",
      "b0430/cyoC (22.6 kDa): pred 0.175 mg/gP (7.8 nmol/gP); exp 0.003 mg/gP (  0.1 nmol/gP)\n",
      "b0429/cyoD (12.0 kDa): pred 0.093 mg/gP (7.8 nmol/gP); exp 0.011 mg/gP (  0.9 nmol/gP)\n"
     ]
    }
   ],
   "source": [
    "# check cytochrome bo3 ubiquinol:oxygen oxidoreductase complex\n",
    "for gene in ['b0432', 'b0431', 'b0430', 'b0429']:\n",
    "    pred = df_proteins.at[gene, reference_cond]\n",
    "    exp = df_mpmf.at[gene, reference_cond]\n",
    "    mw_da = df_mpmf.at[gene, 'mw_Da']\n",
    "    name = df_mpmf.at[gene, 'gene_name']\n",
    "    print(f'{gene}/{name:4s} ({mw_da/1000.0:.1f} kDa): '\n",
    "          f'pred {pred:.3f} mg/gP ({pred/mw_da*1e6:.1f} nmol/gP); '\n",
    "          f'exp {exp:.3f} mg/gP ({exp/mw_da*1e6:5.1f} nmol/gP)')"
   ]
  },
  {
   "cell_type": "markdown",
   "metadata": {},
   "source": [
    "### 5.3 large difference predicted to fitted turnover numbers\n",
    "\n",
    "Assuming that the AI-predicted turnover numbers are close to the apparent in vitro turnover numbers, which are required for the GECKO model formulation, it can be expected that all of the turnover numbers should have been fitted, given our maximum scaling factor of 100. However, 24 turnover numbers exceeded that scaling factor and consequently were not adjusted. \n",
    "\n",
    "An analysis of the corresponding reactions indicates that, in most cases (21 out of 24), the fitted turnover numbers would be considerably lower than the AI-predicted values, resulting in proteins being predicted at a significantly lower level than measured. This discrepancy can be attributed to one or more of the following reasons: Firstly, the AI-predicted turnover number is, in fact, too high, which can be verified by comparing with experimental values derived from databases and/or literature. Secondly, the model may predict insufficient flux through the reaction, potentially due to the model's preference for an alternative pathway. Thirdly, the cell may require the protein for tasks not included in the model, such as repair or housekeeping. Fourthly, the gene may be constitutively expressed, thus not directly linked to reaction fluxes, as observed in the expression of certain periplasmic binding proteins. Finally, a portion of the cellular protein may be inactive due to regulatory mechanisms.\n",
    "\n",
    "Additionally, there are three cases where the AI-predicted turnover numbers are lower than the fitting to proteomics data suggests, and again, different causes can be identified. Firstly, proteomics may be biased to specific types of proteins, integral membrane proteins may be more difficult to isolate and measure correctly compared to soluble proteins. Secondly, the model predicts high flux through a reaction, while the cell uses another pathway. Thirdly, the AI-predicted turnover values are too high.\n",
    "\n",
    "\n",
    "An illustration of proteomics failing to adequately measure a specific protein is the gene product of b0175/cdsA, an integral membrane protein. The AI-predicted turnover number for b0175/cdsA was 1.65 $s^{-1}$, which is well within the measured range of turnover numbers for CdsA (see BRENDA). The protein mass fraction of CdsA is comparatively low (0.009 mg/gP), and its copy number is significantly lower compared to neighboring proteins in the pathway, indicating that not all copies of b0175/cdsA were measured.\n",
    "\n",
    "An illustration of the potential overestimation of the AI-predicted turnover numbers is evident in the synthesis of iron-sulfur clusters utilizing b2528/iscA or b2530/iscS. While the AI-predicted values are within the range of 15 $s^{-1}$, the proteomics data fitting suggests turnover numbers are three orders of magnitude lower. The turnover number for b2530/iscS has been measured at 0.202 $s^{-1}$  (Dunkle et al., 2019), which is more aligned with the proteomics-fitted value. The protein mass fraction for IscS, as measured, is relatively high (4.208 mg/gP). IscS has been shown to be required for Fe-S cluster repair and DNA housekeeping, which are not reflected in the GECKO model. \n",
    "\n",
    "Increasing the maximum scaling factor beyond 100.0 could improve the protein correlation. Setting the `max_scale_factor` to ‘None’ would result in unlimited scaling. However, it is important to note that limiting the maximum scaling provides a greater degree of control over the parametrization of the model and the potential for investigating and addressing inconsistencies."
   ]
  },
  {
   "cell_type": "code",
   "execution_count": 14,
   "metadata": {},
   "outputs": [
    {
     "name": "stdout",
     "output_type": "stream",
     "text": [
      "24 kcat values exceed max scaling, concerning 18 different gene products\n",
      "(3 kcat values would be much higher, 21 much lower)\n"
     ]
    },
    {
     "data": {
      "text/html": [
       "<div>\n",
       "<style scoped>\n",
       "    .dataframe tbody tr th:only-of-type {\n",
       "        vertical-align: middle;\n",
       "    }\n",
       "\n",
       "    .dataframe tbody tr th {\n",
       "        vertical-align: top;\n",
       "    }\n",
       "\n",
       "    .dataframe thead th {\n",
       "        text-align: right;\n",
       "    }\n",
       "</style>\n",
       "<table border=\"1\" class=\"dataframe\">\n",
       "  <thead>\n",
       "    <tr style=\"text-align: right;\">\n",
       "      <th></th>\n",
       "      <th>orig_kcat</th>\n",
       "      <th>fitted_kcat</th>\n",
       "      <th>factor</th>\n",
       "      <th>reaction_string</th>\n",
       "      <th>genes</th>\n",
       "    </tr>\n",
       "    <tr>\n",
       "      <th>sub_rid</th>\n",
       "      <th></th>\n",
       "      <th></th>\n",
       "      <th></th>\n",
       "      <th></th>\n",
       "      <th></th>\n",
       "    </tr>\n",
       "  </thead>\n",
       "  <tbody>\n",
       "    <tr>\n",
       "      <th>ORPT_REV</th>\n",
       "      <td>8.66</td>\n",
       "      <td>1388.386863</td>\n",
       "      <td>160.321809</td>\n",
       "      <td>orot_c + prpp_c =&gt; orot5p_c + ppi_c</td>\n",
       "      <td>b3642</td>\n",
       "    </tr>\n",
       "    <tr>\n",
       "      <th>DASYN160</th>\n",
       "      <td>1.65</td>\n",
       "      <td>294.572288</td>\n",
       "      <td>178.528662</td>\n",
       "      <td>ctp_c + h_c + pa160_c =&gt; cdpdhdecg_c + ppi_c</td>\n",
       "      <td>b0175</td>\n",
       "    </tr>\n",
       "    <tr>\n",
       "      <th>DASYN161</th>\n",
       "      <td>1.65</td>\n",
       "      <td>294.572288</td>\n",
       "      <td>178.528662</td>\n",
       "      <td>ctp_c + h_c + pa161_c =&gt; cdpdhdec9eg_c + ppi_c</td>\n",
       "      <td>b0175</td>\n",
       "    </tr>\n",
       "  </tbody>\n",
       "</table>\n",
       "</div>"
      ],
      "text/plain": [
       "          orig_kcat  fitted_kcat      factor  \\\n",
       "sub_rid                                        \n",
       "ORPT_REV       8.66  1388.386863  160.321809   \n",
       "DASYN160       1.65   294.572288  178.528662   \n",
       "DASYN161       1.65   294.572288  178.528662   \n",
       "\n",
       "                                         reaction_string  genes  \n",
       "sub_rid                                                          \n",
       "ORPT_REV             orot_c + prpp_c => orot5p_c + ppi_c  b3642  \n",
       "DASYN160    ctp_c + h_c + pa160_c => cdpdhdecg_c + ppi_c  b0175  \n",
       "DASYN161  ctp_c + h_c + pa161_c => cdpdhdec9eg_c + ppi_c  b0175  "
      ]
     },
     "execution_count": 14,
     "metadata": {},
     "output_type": "execute_result"
    }
   ],
   "source": [
    "# kcats not fitted due to exceeding factor (max_scale_factor set to 100 during auto-fit)\n",
    "not_scaled = []\n",
    "for data in exceeding_max_scale.values():\n",
    "    sub_rid = data['iso_rid']\n",
    "    fitted_kcat = data['orig_kcat'] * data['factor']\n",
    "    gpr = eo.rdata[sub_rid]['gpr'] \n",
    "    react_str = eo.rdata[sub_rid]['reaction_str']\n",
    "    not_scaled.append([sub_rid, data['orig_kcat'], fitted_kcat, data['factor'], react_str, gpr])\n",
    "cols = ['sub_rid', 'orig_kcat', 'fitted_kcat', 'factor', 'reaction_string', 'genes']    \n",
    "df_not_scaled = pd.DataFrame(not_scaled, columns=cols).set_index('sub_rid')\n",
    "n_higher_kcat = len(df_not_scaled[df_not_scaled[\"factor\"] > 1.0])\n",
    "n_genes = len(df_not_scaled['genes'].unique())\n",
    "print(f'{len(df_not_scaled)} kcat values exceed max scaling, concerning {n_genes} different gene products')\n",
    "print(f'({n_higher_kcat} kcat values would be much higher, {len(df_not_scaled)- n_higher_kcat} much lower)')\n",
    "df_not_scaled[df_not_scaled[\"factor\"] > 1.0]"
   ]
  },
  {
   "cell_type": "code",
   "execution_count": 15,
   "metadata": {},
   "outputs": [
    {
     "name": "stdout",
     "output_type": "stream",
     "text": [
      "b0175\\cdsA (31.4 kDa): pred 1.686 mg/gP (53.66 nmol/gP); exp 0.009 mg/gP ( 0.30 nmol/gP)\n",
      "b2585\\pssA (52.8 kDa): pred 0.106 mg/gP ( 2.02 nmol/gP); exp 0.107 mg/gP ( 2.02 nmol/gP)\n",
      "b4160\\psd  (35.9 kDa): pred 0.396 mg/gP (11.04 nmol/gP); exp 0.397 mg/gP (11.06 nmol/gP)\n",
      "b0914\\msbA (64.4 kDa): pred 0.067 mg/gP ( 1.03 nmol/gP); exp 0.067 mg/gP ( 1.03 nmol/gP)\n"
     ]
    }
   ],
   "source": [
    "# enzymes in the CDP-diacylglycerol biosynthesis pathway suggest issues with proteomics\n",
    "for gene in ['b0175',  'b2585', 'b4160', 'b0914']:\n",
    "    pred = df_proteins.at[gene, reference_cond]\n",
    "    row = df_mpmf.loc[gene]\n",
    "    exp = row[reference_cond]\n",
    "    mw_da = row[\"mw_Da\"]\n",
    "    print(f'{gene}\\{row[\"gene_name\"]:4s} ({mw_da/1000.0:.1f} kDa): '\n",
    "          f'pred {pred:.3f} mg/gP ({pred/mw_da*1e6:5.2f} nmol/gP); '\n",
    "          f'exp {exp:.3f} mg/gP ({exp/mw_da*1e6:5.2f} nmol/gP)')"
   ]
  },
  {
   "cell_type": "code",
   "execution_count": 16,
   "metadata": {},
   "outputs": [
    {
     "data": {
      "text/html": [
       "<div>\n",
       "<style scoped>\n",
       "    .dataframe tbody tr th:only-of-type {\n",
       "        vertical-align: middle;\n",
       "    }\n",
       "\n",
       "    .dataframe tbody tr th {\n",
       "        vertical-align: top;\n",
       "    }\n",
       "\n",
       "    .dataframe thead th {\n",
       "        text-align: right;\n",
       "    }\n",
       "</style>\n",
       "<table border=\"1\" class=\"dataframe\">\n",
       "  <thead>\n",
       "    <tr style=\"text-align: right;\">\n",
       "      <th></th>\n",
       "      <th>orig_kcat</th>\n",
       "      <th>fitted_kcat</th>\n",
       "      <th>factor</th>\n",
       "      <th>reaction_string</th>\n",
       "      <th>genes</th>\n",
       "    </tr>\n",
       "    <tr>\n",
       "      <th>sub_rid</th>\n",
       "      <th></th>\n",
       "      <th></th>\n",
       "      <th></th>\n",
       "      <th></th>\n",
       "      <th></th>\n",
       "    </tr>\n",
       "  </thead>\n",
       "  <tbody>\n",
       "    <tr>\n",
       "      <th>ICYSDS</th>\n",
       "      <td>15.24</td>\n",
       "      <td>0.014258</td>\n",
       "      <td>0.000936</td>\n",
       "      <td>cys__L_c + iscs_c =&gt; ala__L_c + iscssh_c</td>\n",
       "      <td>b2530</td>\n",
       "    </tr>\n",
       "    <tr>\n",
       "      <th>I2FE2SS</th>\n",
       "      <td>15.24</td>\n",
       "      <td>0.014258</td>\n",
       "      <td>0.000936</td>\n",
       "      <td>fadh2_c + 2.0 fe2_c + 2.0 iscssh_c + iscu_c =&gt;...</td>\n",
       "      <td>b2530</td>\n",
       "    </tr>\n",
       "    <tr>\n",
       "      <th>I2FE2ST</th>\n",
       "      <td>11.34</td>\n",
       "      <td>0.018568</td>\n",
       "      <td>0.001637</td>\n",
       "      <td>4.0 h_c + iscu_2fe2s_c =&gt; 2fe2s_c + iscu_c</td>\n",
       "      <td>b2528</td>\n",
       "    </tr>\n",
       "    <tr>\n",
       "      <th>I2FE2SS2</th>\n",
       "      <td>15.24</td>\n",
       "      <td>0.014258</td>\n",
       "      <td>0.000936</td>\n",
       "      <td>fadh2_c + 2.0 fe2_c + 2.0 iscssh_c + iscu_2fe2...</td>\n",
       "      <td>b2530</td>\n",
       "    </tr>\n",
       "    <tr>\n",
       "      <th>I4FE4ST</th>\n",
       "      <td>11.34</td>\n",
       "      <td>0.018568</td>\n",
       "      <td>0.001637</td>\n",
       "      <td>4.0 h_c + iscu_4fe4s_c =&gt; 4fe4s_c + iscu_c</td>\n",
       "      <td>b2528</td>\n",
       "    </tr>\n",
       "    <tr>\n",
       "      <th>I2FE2SR</th>\n",
       "      <td>15.24</td>\n",
       "      <td>0.014258</td>\n",
       "      <td>0.000936</td>\n",
       "      <td>2fe1s_c + iscssh_c + iscu_c =&gt; 4.0 h_c + iscs_...</td>\n",
       "      <td>b2530</td>\n",
       "    </tr>\n",
       "  </tbody>\n",
       "</table>\n",
       "</div>"
      ],
      "text/plain": [
       "          orig_kcat  fitted_kcat    factor  \\\n",
       "sub_rid                                      \n",
       "ICYSDS        15.24     0.014258  0.000936   \n",
       "I2FE2SS       15.24     0.014258  0.000936   \n",
       "I2FE2ST       11.34     0.018568  0.001637   \n",
       "I2FE2SS2      15.24     0.014258  0.000936   \n",
       "I4FE4ST       11.34     0.018568  0.001637   \n",
       "I2FE2SR       15.24     0.014258  0.000936   \n",
       "\n",
       "                                            reaction_string  genes  \n",
       "sub_rid                                                             \n",
       "ICYSDS             cys__L_c + iscs_c => ala__L_c + iscssh_c  b2530  \n",
       "I2FE2SS   fadh2_c + 2.0 fe2_c + 2.0 iscssh_c + iscu_c =>...  b2530  \n",
       "I2FE2ST          4.0 h_c + iscu_2fe2s_c => 2fe2s_c + iscu_c  b2528  \n",
       "I2FE2SS2  fadh2_c + 2.0 fe2_c + 2.0 iscssh_c + iscu_2fe2...  b2530  \n",
       "I4FE4ST          4.0 h_c + iscu_4fe4s_c => 4fe4s_c + iscu_c  b2528  \n",
       "I2FE2SR   2fe1s_c + iscssh_c + iscu_c => 4.0 h_c + iscs_...  b2530  "
      ]
     },
     "execution_count": 16,
     "metadata": {},
     "output_type": "execute_result"
    }
   ],
   "source": [
    "# enzymes catalyzing Fe-S complexes suggest lowering the kcat value\n",
    "df_not_scaled[df_not_scaled[\"genes\"].str.contains('b25')]"
   ]
  },
  {
   "cell_type": "markdown",
   "metadata": {},
   "source": [
    "### 5.4 predicted vs. fitted turnover numbers\n",
    "\n",
    "Less than 25% of all turnover numbers of metabolic reactions were fitted to proteomics data (542 out of 2349 kcat values). Although all turnover numbers undergo slight recalibration to attain target enzyme saturation, proteomics analysis is only applicable to reactions that facilitate traffic. The application of proteomics to these reactions has been observed to augment variance in turnover numbers."
   ]
  },
  {
   "cell_type": "code",
   "execution_count": 17,
   "metadata": {},
   "outputs": [
    {
     "name": "stdout",
     "output_type": "stream",
     "text": [
      "1 table(s) with parameters loaded from data/iML1515_manual_adjust_GECKO_kcats.xlsx (Thu Mar 20 20:55:27 2025)\n",
      "1 table(s) with parameters loaded from data/iML1515_predicted_fit_GECKO_kcats.xlsx (Thu Mar 20 20:58:07 2025)\n",
      "2349 metabolic sub-reactions catalyzed by enzymes\n",
      "     mean TurNuP kcats 27.8 s-1, fitted kcats: 32.2 s-1\n",
      " 542 kcat values fitted with mean factor 3.48\n",
      "     mean TurNuP kcats 29.5 s-1 (std: 62.1), fitted kcats: 48.7 s-1 (std: 95.0)\n"
     ]
    }
   ],
   "source": [
    "# collect original vs. auto-fitted\n",
    "import numpy as np\n",
    "\n",
    "df_orig_kcats = load_parameter_file(os.path.join('data', f'{baseline_model}_kcats.xlsx'))['kcats']\n",
    "df_fitted_kcats = load_parameter_file(os.path.join('data', f'{target_model}_kcats.xlsx'))['kcats']\n",
    "\n",
    "metab_kcats = []\n",
    "for key, row in df_orig_kcats.iterrows():\n",
    "    if row['info_type'] == 'metabolic':\n",
    "        metab_kcats.append([row['kcat_per_s'], df_fitted_kcats.at[key, 'kcat_per_s']])\n",
    "metab_kcats = np.array(metab_kcats)\n",
    "log_x = np.log10(metab_kcats[:,0])\n",
    "log_y = np.log10(metab_kcats[:,1])\n",
    "log_delta = np.log10(10.0)\n",
    "\n",
    "scale_factors = metab_kcats[:,1]/metab_kcats[:,0]\n",
    "fitted_factors = scale_factors[scale_factors != 1.0]\n",
    "fitted_kcats = metab_kcats[scale_factors != 1.0, :]\n",
    "print(f'{len(metab_kcats):4d} metabolic sub-reactions catalyzed by enzymes')\n",
    "print(f'     mean TurNuP kcats {np.mean(metab_kcats[:,0]):.1f} s-1, '\n",
    "      f'fitted kcats: { np.mean(metab_kcats[:,1]):.1f} s-1')\n",
    "print(f'{len(fitted_factors):4d} kcat values fitted with mean factor {np.mean(fitted_factors):.2f}')\n",
    "print(f'     mean TurNuP kcats {np.mean(fitted_kcats[:,0]):.1f} s-1 (std: {np.std(fitted_kcats[:,0]):.1f}), '\n",
    "      f'fitted kcats: { np.mean(fitted_kcats[:,1]):.1f} s-1 (std: {np.std(fitted_kcats[:,1]):.1f})')"
   ]
  },
  {
   "cell_type": "code",
   "execution_count": 18,
   "metadata": {},
   "outputs": [
    {
     "data": {
      "image/png": "[encoded data removed]",
      "text/plain": [
       "<Figure size 1200x247.2 with 3 Axes>"
      ]
     },
     "metadata": {},
     "output_type": "display_data"
    }
   ],
   "source": [
    "import scipy\n",
    "import matplotlib as mpl\n",
    "import matplotlib.pyplot as plt\n",
    "\n",
    "marker2 = mpl.markers.MarkerStyle('o', fillstyle='full')\n",
    "\n",
    "fig, axs = plt.subplots(1, 3, figsize=(12.0, 4.0 * .618), squeeze=False)\n",
    "for gcol in [0, 1, 2]:\n",
    "    ax = axs[0, gcol]\n",
    "    if gcol == 0: \n",
    "        xy_range = (-3.0, 5.0)\n",
    "        #log_x, log_y = er.get_log10_xy(all_kcats)\n",
    "        ax.scatter(log_x, log_y, marker=marker2, label='metabolic')\n",
    "        slope, intercept, rvalue, pvalue, stderr = scipy.stats.linregress(log_x, log_y)\n",
    "        ax.plot((xy_range[0], xy_range[1]),\n",
    "                (slope * xy_range[0] + intercept, slope * xy_range[1] + intercept), 'r:', lw=1)\n",
    "        ax.plot((xy_range[0] + log_delta, xy_range[1]), (xy_range[0], xy_range[1] - log_delta), 'k:', lw=0.5)\n",
    "        ax.plot((xy_range[0], xy_range[1] - log_delta), (xy_range[0] + log_delta, xy_range[1]), 'k:', lw=0.5)\n",
    "\n",
    "        ax.set_xlabel(r'TurNuP kcat (s-1) log10')\n",
    "        ax.set_ylabel(r'auto-fitted kcat (s-1) log10')\n",
    "        ax.legend(loc='upper left')\n",
    "        ax.set(xlim=xy_range, ylim=xy_range)\n",
    "        ax.plot(xy_range, xy_range, 'k--', lw=0.5)\n",
    "    elif gcol == 1:\n",
    "        ax.hist((log_x, log_y), bins=20, linewidth=0.5, label=['TurNuP', 'fitted'])\n",
    "        ax.set_xlabel(r'kcat (s-1) log10')\n",
    "        ax.legend(loc='upper left')\n",
    "        ax.set(xlim=(-2, 3))\n",
    "    elif gcol == 2:\n",
    "        ax.hist(np.log10(fitted_factors), bins=50, linewidth=0.5, label=f'TurNuP ({len(fitted_factors)})')\n",
    "        ax.set_xlabel(r'kcat scale factors (log10)')\n",
    "        ax.legend(loc='upper left')\n",
    "        ax.set(xlim=(-2.2, 2.2))\n",
    "\n",
    "plt.show()"
   ]
  },
  {
   "cell_type": "markdown",
   "metadata": {},
   "source": [
    "## (Optional) Track progress"
   ]
  },
  {
   "cell_type": "code",
   "execution_count": 19,
   "metadata": {},
   "outputs": [
    {
     "name": "stdout",
     "output_type": "stream",
     "text": [
      "1 table(s) with parameters loaded from protein_predictions.xlsx (Thu Mar 20 20:56:10 2025)\n",
      "1 table(s) with parameters written to  protein_predictions.xlsx\n"
     ]
    },
    {
     "data": {
      "text/html": [
       "<div>\n",
       "<style scoped>\n",
       "    .dataframe tbody tr th:only-of-type {\n",
       "        vertical-align: middle;\n",
       "    }\n",
       "\n",
       "    .dataframe tbody tr th {\n",
       "        vertical-align: top;\n",
       "    }\n",
       "\n",
       "    .dataframe thead th {\n",
       "        text-align: right;\n",
       "    }\n",
       "</style>\n",
       "<table border=\"1\" class=\"dataframe\">\n",
       "  <thead>\n",
       "    <tr style=\"text-align: right;\">\n",
       "      <th></th>\n",
       "      <th>model</th>\n",
       "      <th>lin r2</th>\n",
       "      <th>log r2</th>\n",
       "      <th>lin proteins</th>\n",
       "      <th>log proteins</th>\n",
       "    </tr>\n",
       "    <tr>\n",
       "      <th>No</th>\n",
       "      <th></th>\n",
       "      <th></th>\n",
       "      <th></th>\n",
       "      <th></th>\n",
       "      <th></th>\n",
       "    </tr>\n",
       "  </thead>\n",
       "  <tbody>\n",
       "    <tr>\n",
       "      <th>1</th>\n",
       "      <td>iML1515_default_GECKO</td>\n",
       "      <td>0.033244</td>\n",
       "      <td>0.190225</td>\n",
       "      <td>1018</td>\n",
       "      <td>299</td>\n",
       "    </tr>\n",
       "    <tr>\n",
       "      <th>2</th>\n",
       "      <td>iML1515_modified_GECKO</td>\n",
       "      <td>0.135805</td>\n",
       "      <td>0.204476</td>\n",
       "      <td>999</td>\n",
       "      <td>320</td>\n",
       "    </tr>\n",
       "    <tr>\n",
       "      <th>3</th>\n",
       "      <td>iML1515_predicted_GECKO</td>\n",
       "      <td>0.073285</td>\n",
       "      <td>0.284092</td>\n",
       "      <td>999</td>\n",
       "      <td>306</td>\n",
       "    </tr>\n",
       "    <tr>\n",
       "      <th>4</th>\n",
       "      <td>iML1515_manual_adjust_GECKO</td>\n",
       "      <td>0.206013</td>\n",
       "      <td>0.345760</td>\n",
       "      <td>999</td>\n",
       "      <td>308</td>\n",
       "    </tr>\n",
       "    <tr>\n",
       "      <th>5</th>\n",
       "      <td>iML1515_predicted_fit_GECKO</td>\n",
       "      <td>0.810547</td>\n",
       "      <td>0.549078</td>\n",
       "      <td>999</td>\n",
       "      <td>312</td>\n",
       "    </tr>\n",
       "  </tbody>\n",
       "</table>\n",
       "</div>"
      ],
      "text/plain": [
       "                          model    lin r2    log r2  lin proteins  \\\n",
       "No                                                                  \n",
       "1         iML1515_default_GECKO  0.033244  0.190225          1018   \n",
       "2        iML1515_modified_GECKO  0.135805  0.204476           999   \n",
       "3       iML1515_predicted_GECKO  0.073285  0.284092           999   \n",
       "4   iML1515_manual_adjust_GECKO  0.206013  0.345760           999   \n",
       "5   iML1515_predicted_fit_GECKO  0.810547  0.549078           999   \n",
       "\n",
       "    log proteins  \n",
       "No                \n",
       "1            299  \n",
       "2            320  \n",
       "3            306  \n",
       "4            308  \n",
       "5            312  "
      ]
     },
     "execution_count": 19,
     "metadata": {},
     "output_type": "execute_result"
    }
   ],
   "source": [
    "import scipy\n",
    "import numpy as np\n",
    "\n",
    "number = 5\n",
    "xy = np.array([[df_mpmf.at[gene, reference_cond], df_proteins.at[gene, reference_cond]] \n",
    "                for gene in df_proteins.index if gene in df_mpmf.index])\n",
    "log10_x, log10_y = er.get_log10_xy(xy)\n",
    "lin_pearson_r, _ = scipy.stats.pearsonr(xy[:, 0], xy[:, 1])\n",
    "log_pearson_r, _ = scipy.stats.pearsonr(log10_x, log10_y)\n",
    "\n",
    "predictions = load_parameter_file('protein_predictions.xlsx')\n",
    "data = [[number, target_model, lin_pearson_r**2,log_pearson_r**2, len(xy), len(log10_x)]]\n",
    "cols = ['No', 'model', 'lin r2', 'log r2', 'lin proteins', 'log proteins']\n",
    "df = pd.DataFrame(data, columns=cols).set_index('No')\n",
    "if number in predictions[reference_cond].index:\n",
    "    predictions[reference_cond].drop(index=number, inplace=True)\n",
    "predictions[reference_cond] = pd.concat((predictions[reference_cond], df)).sort_index()\n",
    "write_parameter_file('protein_predictions.xlsx', predictions)\n",
    "predictions[reference_cond]"
   ]
  },
  {
   "cell_type": "markdown",
   "metadata": {},
   "source": [
    "## Closing remarks\n",
    "\n",
    "While artificial intelligence (AI)-predicted turnover numbers might serve as a valuable starting point, manual adjustments and automatic fitting of turnover numbers to proteomics data hold significant potential for enhancing the prediction of protein concentrations under both reference conditions and other nutrient conditions. This enhancement can be attributed to the fact that the AI-prediction model is based on experimentally derived turnover numbers that are scarce, noisy, and acquired by non-standardized methods. In contrast, quantitative proteomics is a standardized, high-throughput method with almost complete coverage of the proteome.\n",
    "\n",
    "Nevertheless, there appears to be a potential for further improvements, particularly with regard to different reactions and pathways. These improvements could involve additional cycles of manual parameter adjustments followed by automatic fitting to proteomics. With varying nutrient conditions, different areas of the metabolic network could be explored and subjected to manual adjustment and automatic fitting workflows.\n",
    "\n",
    "However, achieving perfect correlation between predicted and measured protein concentrations will not be feasible for a complex metabolic network. This discrepancy arises from the modeling of enzymes with integer-based stoichiometry of participating proteins, while the measured proteins exhibit variable copy number ratios. Additionally, proteins may be components of different enzyme complexes, precluding their independent adjustment.  \n",
    "\n",
    "The final GECKO model of iML1515 was created through a gradual improvement of model parameters, commencing with an initial GECKO model that employed default parametrization. The configuration data of this final GECKO model will serve as a baseline for the construction of a resource balance model (RBA) of iML1515, as well as for the creation of thermodynamics constraint TGECKO and TRBA models."
   ]
  },
  {
   "cell_type": "markdown",
   "metadata": {},
   "source": [
    "---\n",
    "---\n",
    "## (Alternative) gurobipy – automatic fitting to proteomics data"
   ]
  },
  {
   "cell_type": "code",
   "execution_count": 20,
   "metadata": {},
   "outputs": [
    {
     "name": "stdout",
     "output_type": "stream",
     "text": [
      "SBML model loaded by sbmlxdf: SBML_models/iML1515_manual_adjust_GECKO.xml (Thu Mar 20 20:55:49 2025)\n",
      "LP Model of iML1515_GECKO\n",
      "7343 variables, 3372 constraints, 28438 non-zero matrix coefficients\n",
      "total modeled protein: 306.59 mg/gDW, enzyme saturation level: 0.53\n",
      "Glucose: growth rate 0.654 h-1 (optimal)\n"
     ]
    }
   ],
   "source": [
    "# Load GECKO model and optimize for reference condition using gurobipy\n",
    "fname = os.path.join('SBML_models', f'{baseline_model}.xml')\n",
    "eo = EcmOptimization(fname)\n",
    "total_protein = eo.get_variable_bounds('V_PC_total')[1]\n",
    "sigma = eo.avg_enz_saturation\n",
    "print(f'total modeled protein: {total_protein:.2f} mg/gDW, enzyme saturation level: {sigma}')\n",
    "\n",
    "# Calculate GECKO solution for given condition\n",
    "eo.set_medium(conditions[reference_cond])\n",
    "solution = eo.optimize()\n",
    "gr = solution.objective_value\n",
    "print(f'{reference_cond}: growth rate {gr:.3f} h-1 ({solution.status})')"
   ]
  },
  {
   "cell_type": "code",
   "execution_count": 21,
   "metadata": {},
   "outputs": [
    {
     "name": "stdout",
     "output_type": "stream",
     "text": [
      " 996 proteins measured with total of 497.8 mg/gP\n",
      "   3 proteins excluded with total of  16.6 mg/gP\n",
      "5357 enzyme catalyzed iso-reactions (2221 reactions, 1494 proteins)\n",
      " 397 active catalyzed reactions with total protein of 537.9 mg/gP (based on GECKO simulation)\n",
      " 417 proteins potentially involved in active reactions\n",
      " 353 active catalyzed reactions using total protein of 357.2 mg/gP (based on proteomics)\n",
      "  44 active catalyzed reactions have no measured proteins provided\n",
      "5357 original kcat records loaded from data/iML1515_manual_adjust_GECKO_kcats.xlsx\n",
      " 583 kcat records fitted. Scale factor range [0.0090301, 108.9]\n",
      "  24 (net) reactions would exceed the maximum scaling factor of 100.0 and will not be scaled\n",
      "fitted kcats exported to data/iML1515_predicted_fit_GECKO_kcats.xlsx\n",
      "3 table(s) with parameters loaded from data/iML1515_manual_adjust_GECKO_xba_parameters.xlsx (Thu Mar 20 20:55:27 2025)\n",
      "3 table(s) with parameters written to  data/iML1515_predicted_fit_GECKO_xba_parameters.xlsx\n",
      "1 table(s) with parameters loaded from data/iML1515_manual_adjust_GECKO_ecm_parameters.xlsx (Thu Mar 20 20:55:27 2025)\n",
      "1 table(s) with parameters written to  data/iML1515_predicted_fit_GECKO_ecm_parameters.xlsx\n"
     ]
    }
   ],
   "source": [
    "# Select proteins for the automatic fit\n",
    "excluded_loci = {'b0929', 'b2215', 'b1377', 'b0241', 'b2400'}\n",
    "measured_mpmfs = {} \n",
    "excluded_mpmfs = {} \n",
    "for locus, mpmf in df_mpmf[reference_cond].items():\n",
    "    if locus in eo.locus2uid:\n",
    "        if locus not in excluded_loci:\n",
    "            measured_mpmfs[locus] = mpmf        \n",
    "        else:\n",
    "            excluded_mpmfs[locus] = mpmf\n",
    "print(f'{len(measured_mpmfs):4d} proteins measured with total of {sum(measured_mpmfs.values()):5.1f} mg/gP')\n",
    "print(f'{len(excluded_mpmfs):4d} proteins excluded with total of {sum(excluded_mpmfs.values()):5.1f} mg/gP')\n",
    "\n",
    "# Automatically fit kcat values to proteomics\n",
    "target_enz_sat = 0.5\n",
    "orig_kcats_fname = os.path.join('data', f'{baseline_model}_kcats.xlsx')\n",
    "fitted_kcats_fname = os.path.join('data', f'{target_model}_kcats.xlsx')\n",
    "\n",
    "gfk = GeckoFitKcats(eo, orig_kcats_fname)\n",
    "tot_fitted_mpmf = gfk.process_data(solution.fluxes, measured_mpmfs)\n",
    "exceeding_max_scale = gfk.update_kcats(fitted_kcats_fname, target_sat=target_enz_sat, max_scale_factor=100.0)\n",
    "\n",
    "# Create updated XBA parameter file\n",
    "xba_params = load_parameter_file(os.path.join('data', f'{baseline_model}_xba_parameters.xlsx'))\n",
    "xba_params['general'].at['kcats_fname', 'value'] = os.path.join('data', f'{target_model}_kcats.xlsx')\n",
    "write_parameter_file(os.path.join('data', f'{target_model}_xba_parameters.xlsx'), xba_params)\n",
    "\n",
    "# Create updated ECM parameter file\n",
    "ecm_params = load_parameter_file(os.path.join('data', f'{baseline_model}_ecm_parameters.xlsx'),['general'])\n",
    "fitted_pmf = (tot_fitted_mpmf + sum(excluded_mpmfs.values()))/1000.0\n",
    "ecm_params['general'].at['pm2totpm_val_or_paxdb', 'value'] = fitted_pmf\n",
    "ecm_params['general'].at['avg_enz_sat', 'value'] = target_enz_sat\n",
    "write_parameter_file(os.path.join('data', f'{target_model}_ecm_parameters.xlsx'), ecm_params)"
   ]
  },
  {
   "cell_type": "code",
   "execution_count": null,
   "metadata": {},
   "outputs": [],
   "source": [
    "# Load model using gurobipy\n",
    "fname = os.path.join('SBML_models', f'{target_model}.xml')\n",
    "eo = EcmOptimization(fname)\n",
    "total_protein = eo.get_variable_bounds('V_PC_total')[1]\n",
    "sigma = eo.avg_enz_saturation\n",
    "all_genes = set(eo.m_dict['fbcGeneProducts']['label'].values)\n",
    "tx_genes, metab_genes = eo.get_tx_metab_genes()\n",
    "print(f'total modeled protein: {total_protein:.2f} mg/gDW, average saturation level: {sigma}')\n",
    "print(f'{len(all_genes)} genes: ({len(tx_genes)}) transporter, ({len(metab_genes)}) metabolic')"
   ]
  },
  {
   "cell_type": "code",
   "execution_count": null,
   "metadata": {},
   "outputs": [],
   "source": [
    "# Optimize model using gurobipy and analyze results\n",
    "pred_results = {}\n",
    "for cond, medium in conditions.items():\n",
    "    eo.set_medium(medium)\n",
    "    solution = eo.optimize()\n",
    "\n",
    "    if solution.status == 'optimal':\n",
    "        pred_results[cond] = solution\n",
    "        gr = solution.objective_value\n",
    "        print(f'{cond:25s}: pred gr: {gr:.3f} h-1 vs. exp {exp_grs[cond]:.3f}, diff: {gr - exp_grs[cond]:6.3f}')\n",
    "    else:    \n",
    "        print(f'{cond} ended with status {solution.status}')\n",
    "        \n",
    "# Analyze results\n",
    "er = EcmResults(eo, pred_results, df_mpmf)\n",
    "df_fluxes = er.collect_fluxes()\n",
    "df_net_fluxes = er.collect_fluxes(net=True)\n",
    "df_proteins = er.collect_protein_results()\n",
    "er.plot_grs(exp_grs, highlight='Glucose')\n",
    "\n",
    "print(f'Protein mass fractions:')\n",
    "er.report_proteomics_correlation(scale='lin')\n",
    "er.report_proteomics_correlation(scale='log')\n",
    "print()\n",
    "er.report_protein_levels('Glucose')\n",
    "er.plot_proteins('Glucose', plot_fname=os.path.join('plots', f'{target_model}_proteins_Glucose.pdf'))  \n",
    "er.save_to_escher(df_net_fluxes['Glucose'], os.path.join('escher', target_model))"
   ]
  },
  {
   "cell_type": "markdown",
   "metadata": {},
   "source": [
    "---\n",
    "---\n",
    "## References\n",
    "\n",
    "- Domenzain, I., Sánchez, B., Anton, M., Kerkhoven, E. J., Millán-Oropeza, A., Henry, C., Siewers, V., Morrissey, J. P., Sonnenschein, N., & Nielsen, J. (2022). Reconstruction of a catalogue of genome-scale metabolic models with enzymatic constraints using GECKO 2.0. Nat Commun, 13(1), 3766. https://doi.org/10.1038/s41467-022-31421-1 \n",
    "- Dunkle, J. A., Bruno, M. R., Outten, F. W., & Frantom, P. A. (2019). Structural Evidence for Dimer-Interface-Driven Regulation of the Type II Cysteine Desulfurase, SufS. Biochemistry, 58(6), 687-696. https://doi.org/10.1021/acs.biochem.8b01122 \n",
    "- Wendering, P., Arend, M., Razaghi-Moghadam, Z., & Nikoloski, Z. (2023). Data integration across conditions improves turnover number estimates and metabolic predictions. Nature Communications, 14(1), 1485. https://doi.org/10.1038/s41467-023-37151-2 \n",
    "\n"
   ]
  },
  {
   "cell_type": "code",
   "execution_count": null,
   "metadata": {},
   "outputs": [],
   "source": []
  }
 ],
 "metadata": {
  "kernelspec": {
   "display_name": "Python 3.11 (ipykernel)",
   "language": "python",
   "name": "python3"
  },
  "language_info": {
   "codemirror_mode": {
    "name": "ipython",
    "version": 3
   },
   "file_extension": ".py",
   "mimetype": "text/x-python",
   "name": "python",
   "nbconvert_exporter": "python",
   "pygments_lexer": "ipython3",
   "version": "3.11.2"
  }
 },
 "nbformat": 4,
 "nbformat_minor": 4
}
